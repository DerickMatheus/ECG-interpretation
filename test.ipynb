{
 "cells": [
  {
   "cell_type": "code",
   "execution_count": 3,
   "metadata": {},
   "outputs": [
    {
     "name": "stderr",
     "output_type": "stream",
     "text": [
      "Using TensorFlow backend.\n"
     ]
    }
   ],
   "source": [
    "#!/usr/bin/env python\n",
    "# coding: utf-8\n",
    "import time\n",
    "import numpy as np\n",
    "import pandas as pd\n",
    "import matplotlib.pyplot as plt\n",
    "from copy import deepcopy\n",
    "from matplotlib import pyplot as plt\n",
    "import neurokit as nk\n",
    "import random\n",
    "import datetime\n",
    "import warnings\n",
    "warnings.simplefilter(action='ignore', category=FutureWarning)\n",
    "warnings.simplefilter(action='ignore', category=UserWarning)\n",
    "from interpret import ecgInterpretation\n",
    "from data_for_test import get_data_for_test\n",
    "import pandas as pd\n",
    "import numpy as np\n",
    "import sys"
   ]
  },
  {
   "cell_type": "code",
   "execution_count": 4,
   "metadata": {},
   "outputs": [],
   "source": [
    "val_path = '/scratch/derickmath/datasets/base_dados_laudos_unificada_revista.csv'\n",
    "val_traces = '/scratch/derickmath/datasets/val_traces.csv'\n",
    "# Get data\n",
    "data_ori = pd.read_csv(val_traces, sep = \";\")\n",
    "exames = pd.read_csv(val_path, sep = \",\")\n",
    "pd.options.display.max_columns = None\n",
    "data = get_data_for_test(path_to_traces=val_traces,\n",
    "                               path_to_val=val_path)\n",
    "signals =  np.array([x for x in data['x'][:][0]])\n",
    "datax = data['x']\n",
    "datay = data['y']"
   ]
  },
  {
   "cell_type": "code",
   "execution_count": 12,
   "metadata": {},
   "outputs": [
    {
     "data": {
      "text/plain": [
       "(953, 4096, 12)"
      ]
     },
     "execution_count": 12,
     "metadata": {},
     "output_type": "execute_result"
    }
   ],
   "source": [
    "np.shape(datax)"
   ]
  },
  {
   "cell_type": "code",
   "execution_count": 15,
   "metadata": {},
   "outputs": [],
   "source": [
    "ecg_id = 1\n",
    "ecg_process = [None] * 12\n",
    "signal = [None] * 12\n",
    "for i in range(12):\n",
    "    signal[i] = np.array([x[i] for x in datax[ecg_id]])\n",
    "    try:\n",
    "        ecg_process[i] = nk.ecg_process(signal[i],\n",
    "                                        sampling_rate = 400,\n",
    "                                        hrv_features = None,\n",
    "                                        filter_type='FIR')\n",
    "        ecg_process[i]['ECG']['R_Peaks'] = [[y, x] for x, y in\n",
    "                                            enumerate(ecg_process[i][\n",
    "                                                'ECG']['R_Peaks'])]\n",
    "\n",
    "    except:\n",
    "        print(\"error on ecg segmentation\\n derviv = \", i)\n",
    "        raise NameError('ECG segmentation error')"
   ]
  }
 ],
 "metadata": {
  "kernelspec": {
   "display_name": "Python 3",
   "language": "python",
   "name": "python3"
  },
  "language_info": {
   "codemirror_mode": {
    "name": "ipython",
    "version": 3
   },
   "file_extension": ".py",
   "mimetype": "text/x-python",
   "name": "python",
   "nbconvert_exporter": "python",
   "pygments_lexer": "ipython3",
   "version": "3.7.3"
  }
 },
 "nbformat": 4,
 "nbformat_minor": 4
}
