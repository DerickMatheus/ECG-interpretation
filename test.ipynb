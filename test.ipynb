{
 "cells": [
  {
   "cell_type": "code",
   "execution_count": 1,
   "metadata": {},
   "outputs": [
    {
     "name": "stderr",
     "output_type": "stream",
     "text": [
      "Using TensorFlow backend.\n"
     ]
    }
   ],
   "source": [
    "#!/usr/bin/env python\n",
    "# coding: utf-8\n",
    "import time\n",
    "import numpy as np\n",
    "import pandas as pd\n",
    "import matplotlib.pyplot as plt\n",
    "from copy import deepcopy\n",
    "from matplotlib import pyplot as plt\n",
    "import neurokit as nk\n",
    "import random\n",
    "import datetime\n",
    "import warnings\n",
    "warnings.simplefilter(action='ignore', category=FutureWarning)\n",
    "warnings.simplefilter(action='ignore', category=UserWarning)\n",
    "from interpret import ecgInterpretation\n",
    "from data_for_test import get_data_for_test\n",
    "import pandas as pd\n",
    "import numpy as np\n",
    "import sys"
   ]
  },
  {
   "cell_type": "code",
   "execution_count": 2,
   "metadata": {},
   "outputs": [],
   "source": [
    "val_path = '/scratch/derickmath/datasets/base_dados_laudos_unificada_revista.csv'\n",
    "val_traces = '/scratch/derickmath/datasets/val_traces.csv'\n",
    "# Get data\n",
    "data_ori = pd.read_csv(val_traces, sep = \";\")\n",
    "exames = pd.read_csv(val_path, sep = \",\")\n",
    "pd.options.display.max_columns = None\n",
    "data = get_data_for_test(path_to_traces=val_traces,\n",
    "                               path_to_val=val_path)\n",
    "signals =  np.array([x for x in data['x'][:][0]])\n",
    "datax = data['x']\n",
    "datay = data['y']"
   ]
  },
  {
   "cell_type": "code",
   "execution_count": 249,
   "metadata": {},
   "outputs": [],
   "source": [
    "%matplotlib inline\n",
    "import mpld3\n",
    "\n",
    "ecg_id = 1\n",
    "\n",
    "data = datax[ecg_id]\n",
    "signal = [None] * 12\n",
    "ecg_process = [None] * 12\n",
    "for i in range(12):\n",
    "    signal[i] = np.array([x[i] for x in data])\n",
    "    ecg_process[i] = nk.ecg_process(signal[i],sampling_rate = 400,hrv_features = None,filter_type='FIR')\n",
    "    ecg_process[i]['ECG']['R_Peaks'] = [[y, x] for x, y in enumerate(ecg_process[i]['ECG']['R_Peaks'])]\n",
    "peaks = ecg_process\n",
    "ECG = np.transpose(data)\n",
    "\n",
    "mpld3.enable_notebook()\n",
    "derivations = [\"DI\", \"DII\", \"DIII\", \"AVL\", \"AVF\", \"AVR\", \"V1\", \"V2\", \"V3\", \"V4\", \"V5\", \"V6\"]\n",
    "\n",
    "fig, ax = plt.subplots(nrows=1, ncols=3, figsize=(20, 5), gridspec_kw={'width_ratios': [4, 1, 1]})\n",
    "fig.tight_layout(rect=[-0.015, -0.015, 0.9, 0.95])\n",
    "\n",
    "beg = 999\n",
    "ders = [1, 6, 11]\n",
    "incs = [2000, 1000, 1000]\n",
    "time = [5, 2.5, 2.5]\n",
    "xpos = [0.95,0.8,0.8]\n",
    "\n",
    "for i in range(3):\n",
    "\n",
    "    end = beg + incs[i]\n",
    "    der = ders[i]\n",
    "#     der = 0\n",
    "    p = np.array([x[0] - beg for x in peaks[der]['ECG']['P_Waves'] if x[0] <= end and x[0] >= beg])\n",
    "    q = np.array([x[0]- beg for x in peaks[der]['ECG']['Q_Waves'] if x[0] <= end and x[0] >= beg])\n",
    "    r = np.array([x[0]- beg for x in peaks[der]['ECG']['R_Peaks'] if x[0] <= end and x[0] >= beg])\n",
    "    s = np.array([x[0]- beg for x in peaks[der]['ECG']['S_Waves'] if x[0] <= end and x[0] >= beg])\n",
    "    t = np.array([x[0]- beg for x in peaks[der]['ECG']['T_Waves_Onsets'] if x[0] <= end and x[0] >= beg])\n",
    "    t_ = np.array([x[0]- beg for x in peaks[der]['ECG']['T_Waves_Ends'] if x[0] <= end and x[0] >= beg])\n",
    "\n",
    "    x = np.arange(incs[i])\n",
    "\n",
    "    ax[i].plot(x/400, ECG[der][beg:end]/5, '-k', linewidth=2.5)\n",
    "    ax[i].plot(p/400, ECG[der][p + beg]/5, 'rv', ms = 8)\n",
    "    ax[i].plot(q/400, ECG[der][q + beg]/5, 'g^', ms = 8)\n",
    "    ax[i].plot(r/400, ECG[der][r + beg]/5, 'y<', ms = 8)\n",
    "    ax[i].plot(s/400, ECG[der][s + beg]/5, 'm>', ms = 8)\n",
    "    ax[i].plot(t/400, ECG[der][t + beg]/5, 'cs', ms = 8)\n",
    "    ax[i].plot(t_/400, ECG[der][t_+ beg]/5, 'co', ms = 8)\n",
    "    major_ticksy = np.arange(-1.45, 1.45, 0.5)\n",
    "    minor_ticksy = np.arange(-1.45, 1.45, 0.1)\n",
    "    major_ticksx = np.arange(0, time[i], 0.2)\n",
    "    minor_ticksx = np.arange(0, time[i], 0.05)\n",
    "    ax[i].set_xlim(0, time[i])\n",
    "    ax[i].grid(which='both')\n",
    "    ax[i].set_xticks(major_ticksx)\n",
    "    ax[i].set_xticks(minor_ticksx, minor=True)\n",
    "    ax[i].set_yticks(major_ticksy)\n",
    "    ax[i].set_yticks(minor_ticksy, minor=True)\n",
    "    ax[i].grid(which='minor', alpha=0.2, color='r')\n",
    "    ax[i].grid(which='major', alpha=0.5, color='r')\n",
    "    ax[i].set_xticklabels( () )\n",
    "    ax[i].set_yticklabels( () )\n",
    "#     der = ders[i]\n",
    "    ax[i].set_title(derivations[der], fontsize=28, x = xpos[i])\n",
    "    plt.legend([\"signal\", \"p\", \"q\", \"r\", \"s\", \"t begin\", \"t end\"], loc=4, fancybox=True, shadow=True, prop={'size': 22}, bbox_to_anchor=(1.869, 0.09))\n",
    "\n",
    "plt.savefig(\"plts_chil/\" + str(ecg_id) + \".pdf\")\n",
    "plt.close()"
   ]
  },
  {
   "cell_type": "code",
   "execution_count": null,
   "metadata": {},
   "outputs": [],
   "source": []
  }
 ],
 "metadata": {
  "kernelspec": {
   "display_name": "Python 3",
   "language": "python",
   "name": "python3"
  },
  "language_info": {
   "codemirror_mode": {
    "name": "ipython",
    "version": 3
   },
   "file_extension": ".py",
   "mimetype": "text/x-python",
   "name": "python",
   "nbconvert_exporter": "python",
   "pygments_lexer": "ipython3",
   "version": "3.7.1"
  }
 },
 "nbformat": 4,
 "nbformat_minor": 4
}
